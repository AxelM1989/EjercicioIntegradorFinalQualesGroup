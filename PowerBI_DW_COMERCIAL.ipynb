{
 "cells": [
  {
   "cell_type": "code",
   "execution_count": 7,
   "metadata": {},
   "outputs": [],
   "source": [
    "# Se importan las librerias necesarias de Power BI, instaladas previamente con comando pip install.\n",
    "from powerbiclient import Report\n",
    "from powerbiclient.authentication import DeviceCodeLoginAuthentication"
   ]
  },
  {
   "cell_type": "code",
   "execution_count": 8,
   "metadata": {},
   "outputs": [
    {
     "name": "stdout",
     "output_type": "stream",
     "text": [
      "Performing device flow authentication. Please follow the instructions below.\n",
      "To sign in, use a web browser to open the page https://microsoft.com/devicelogin and enter the code AU9TUTYQA to authenticate.\n",
      "\n",
      "Device flow authentication successfully completed.\n",
      "You are now logged in .\n",
      "\n",
      "The result should be passed only to trusted code in your notebook.\n"
     ]
    }
   ],
   "source": [
    "# Iniciar la autentificación. Se debe usar el código siguiente en ese enlace y aceptar los permisos de \n",
    "# Power Bi Client Integration.\n",
    "device_auth=DeviceCodeLoginAuthentication()"
   ]
  },
  {
   "cell_type": "code",
   "execution_count": 9,
   "metadata": {},
   "outputs": [],
   "source": [
    "# Colocar los id de grupos y/o reportes en el caso que los tenga, se obtienen del mismo \n",
    "# link de publicación del reporte.\n",
    "\n",
    "#group_id=\"24538a7b-5269-4e43-a91d-a1a65c97d9f5\" En este caso solo se tiene de reporte.\n",
    "report_id= \"beb6a4c8-ff0c-4c45-bdc2-c724f8ba6fb6\""
   ]
  },
  {
   "cell_type": "code",
   "execution_count": 5,
   "metadata": {},
   "outputs": [],
   "source": [
    "# Se utilizan los datos cargados anteriormente para visualizar el reporte. Si el reporte tiene group_id,\n",
    "# también se debe cargar en el siguiente código.\n",
    "\n",
    "report= Report(report_id=report_id, auth=device_auth)"
   ]
  },
  {
   "cell_type": "code",
   "execution_count": 6,
   "metadata": {},
   "outputs": [
    {
     "data": {
      "application/vnd.jupyter.widget-view+json": {
       "model_id": "fb137f9c41b644b0842f704bd3a3de5e",
       "version_major": 2,
       "version_minor": 0
      },
      "text/plain": [
       "Report()"
      ]
     },
     "metadata": {},
     "output_type": "display_data"
    }
   ],
   "source": [
    "# Se visualiza el reporte. Se pueden utilizar todos los filtros del dashboard realizado en Power Bi, \n",
    "# también se pueden crear nuevos reportes, desde cero.\n",
    "report"
   ]
  }
 ],
 "metadata": {
  "kernelspec": {
   "display_name": "Python 3",
   "language": "python",
   "name": "python3"
  },
  "language_info": {
   "codemirror_mode": {
    "name": "ipython",
    "version": 3
   },
   "file_extension": ".py",
   "mimetype": "text/x-python",
   "name": "python",
   "nbconvert_exporter": "python",
   "pygments_lexer": "ipython3",
   "version": "3.10.7"
  },
  "orig_nbformat": 4
 },
 "nbformat": 4,
 "nbformat_minor": 2
}
